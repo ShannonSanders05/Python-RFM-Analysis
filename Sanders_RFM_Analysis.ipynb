{
 "cells": [
  {
   "cell_type": "markdown",
   "metadata": {
    "id": "aaS-SMZ2py7H"
   },
   "source": [
    "# RFM Analysis in Python"
   ]
  },
  {
   "cell_type": "markdown",
   "metadata": {
    "id": "h9S-ZDPQpw5D"
   },
   "source": [
    "The dataset under study contains credit card transactions from the State of Oklahoma. It includes information on purchases made through the purchase card programs administered by the state and higher educational institutions. The purchase card information is updated monthly after the end of every month. As such, July information is added in August, August in September, and so on and so forth.\n",
    "\n",
    "In a brief, here's the data description:\n",
    "- Dataset contains around 440k credit card transactions.\n",
    "- Each row in the dataset refers to a credit card transaction by a cardholder.\n",
    "- Each cardholder belongs to an agency.\n",
    "- Each transaction has the following information:\n",
    "    - cardholder name\n",
    "    - agency\n",
    "    - amount\n",
    "    - transaction date\n",
    "    - merchant name (vendor)\n",
    "    - merchant category\n",
    "    - description of the expense"
   ]
  },
  {
   "cell_type": "code",
   "execution_count": 1,
   "metadata": {
    "id": "nN4SaRO-jcRI"
   },
   "outputs": [],
   "source": [
    "import pandas as pd\n",
    "import matplotlib.pyplot as plt\n",
    "import seaborn as sns\n",
    "%matplotlib inline\n",
    "\n",
    "pd.set_option('display.max_rows', 20)"
   ]
  },
  {
   "cell_type": "markdown",
   "metadata": {
    "id": "yubCaMdkq6JZ"
   },
   "source": [
    "# Load and clean the data"
   ]
  },
  {
   "cell_type": "code",
   "execution_count": 2,
   "metadata": {
    "colab": {
     "base_uri": "https://localhost:8080/",
     "height": 206
    },
    "id": "zVr6aLG7jl5Y",
    "outputId": "61f383f0-5a9e-4cb1-b377-87667ef5f4c8"
   },
   "outputs": [
    {
     "name": "stderr",
     "output_type": "stream",
     "text": [
      "C:\\Users\\User\\AppData\\Local\\Temp\\ipykernel_17900\\4155892172.py:1: UserWarning: Could not infer format, so each element will be parsed individually, falling back to `dateutil`. To ensure parsing is consistent and as-expected, please specify a format.\n",
      "  df = pd.read_csv(r\"C:\\Users\\User\\Documents\\DATA ANALYST\\SELF STUDY\\MODULE 5\\HA\\HA 5.8\\res_purchase_card_(pcard)_fiscal_year_2014_3pcd-aiuu (1).csv\",\n",
      "C:\\Users\\User\\AppData\\Local\\Temp\\ipykernel_17900\\4155892172.py:1: UserWarning: Could not infer format, so each element will be parsed individually, falling back to `dateutil`. To ensure parsing is consistent and as-expected, please specify a format.\n",
      "  df = pd.read_csv(r\"C:\\Users\\User\\Documents\\DATA ANALYST\\SELF STUDY\\MODULE 5\\HA\\HA 5.8\\res_purchase_card_(pcard)_fiscal_year_2014_3pcd-aiuu (1).csv\",\n"
     ]
    },
    {
     "data": {
      "text/html": [
       "<div>\n",
       "<style scoped>\n",
       "    .dataframe tbody tr th:only-of-type {\n",
       "        vertical-align: middle;\n",
       "    }\n",
       "\n",
       "    .dataframe tbody tr th {\n",
       "        vertical-align: top;\n",
       "    }\n",
       "\n",
       "    .dataframe thead th {\n",
       "        text-align: right;\n",
       "    }\n",
       "</style>\n",
       "<table border=\"1\" class=\"dataframe\">\n",
       "  <thead>\n",
       "    <tr style=\"text-align: right;\">\n",
       "      <th></th>\n",
       "      <th>Year-Month</th>\n",
       "      <th>Agency Number</th>\n",
       "      <th>Agency Name</th>\n",
       "      <th>Cardholder Last Name</th>\n",
       "      <th>Cardholder First Initial</th>\n",
       "      <th>Description</th>\n",
       "      <th>Amount</th>\n",
       "      <th>Vendor</th>\n",
       "      <th>Transaction Date</th>\n",
       "      <th>Posted Date</th>\n",
       "      <th>Merchant Category Code (MCC)</th>\n",
       "    </tr>\n",
       "  </thead>\n",
       "  <tbody>\n",
       "    <tr>\n",
       "      <th>0</th>\n",
       "      <td>201307</td>\n",
       "      <td>1000</td>\n",
       "      <td>OKLAHOMA STATE UNIVERSITY</td>\n",
       "      <td>Mason</td>\n",
       "      <td>C</td>\n",
       "      <td>GENERAL PURCHASE</td>\n",
       "      <td>890.00</td>\n",
       "      <td>NACAS</td>\n",
       "      <td>2013-07-30</td>\n",
       "      <td>2013-07-31</td>\n",
       "      <td>CHARITABLE AND SOCIAL SERVICE ORGANIZATIONS</td>\n",
       "    </tr>\n",
       "    <tr>\n",
       "      <th>1</th>\n",
       "      <td>201307</td>\n",
       "      <td>1000</td>\n",
       "      <td>OKLAHOMA STATE UNIVERSITY</td>\n",
       "      <td>Mason</td>\n",
       "      <td>C</td>\n",
       "      <td>ROOM CHARGES</td>\n",
       "      <td>368.96</td>\n",
       "      <td>SHERATON HOTEL</td>\n",
       "      <td>2013-07-30</td>\n",
       "      <td>2013-07-31</td>\n",
       "      <td>SHERATON</td>\n",
       "    </tr>\n",
       "    <tr>\n",
       "      <th>2</th>\n",
       "      <td>201307</td>\n",
       "      <td>1000</td>\n",
       "      <td>OKLAHOMA STATE UNIVERSITY</td>\n",
       "      <td>Massey</td>\n",
       "      <td>J</td>\n",
       "      <td>GENERAL PURCHASE</td>\n",
       "      <td>165.82</td>\n",
       "      <td>SEARS.COM 9300</td>\n",
       "      <td>2013-07-29</td>\n",
       "      <td>2013-07-31</td>\n",
       "      <td>DIRCT MARKETING/DIRCT MARKETERS--NOT ELSEWHERE...</td>\n",
       "    </tr>\n",
       "    <tr>\n",
       "      <th>3</th>\n",
       "      <td>201307</td>\n",
       "      <td>1000</td>\n",
       "      <td>OKLAHOMA STATE UNIVERSITY</td>\n",
       "      <td>Massey</td>\n",
       "      <td>T</td>\n",
       "      <td>GENERAL PURCHASE</td>\n",
       "      <td>96.39</td>\n",
       "      <td>WAL-MART #0137</td>\n",
       "      <td>2013-07-30</td>\n",
       "      <td>2013-07-31</td>\n",
       "      <td>GROCERY STORES,AND SUPERMARKETS</td>\n",
       "    </tr>\n",
       "    <tr>\n",
       "      <th>4</th>\n",
       "      <td>201307</td>\n",
       "      <td>1000</td>\n",
       "      <td>OKLAHOMA STATE UNIVERSITY</td>\n",
       "      <td>Mauro-Herrera</td>\n",
       "      <td>M</td>\n",
       "      <td>HAMMERMILL COPY PLUS COPY EA</td>\n",
       "      <td>125.96</td>\n",
       "      <td>STAPLES DIRECT</td>\n",
       "      <td>2013-07-30</td>\n",
       "      <td>2013-07-31</td>\n",
       "      <td>STATIONERY, OFFICE SUPPLIES, PRINTING AND WRIT...</td>\n",
       "    </tr>\n",
       "  </tbody>\n",
       "</table>\n",
       "</div>"
      ],
      "text/plain": [
       "   Year-Month  Agency Number                Agency Name Cardholder Last Name  \\\n",
       "0      201307           1000  OKLAHOMA STATE UNIVERSITY                Mason   \n",
       "1      201307           1000  OKLAHOMA STATE UNIVERSITY                Mason   \n",
       "2      201307           1000  OKLAHOMA STATE UNIVERSITY               Massey   \n",
       "3      201307           1000  OKLAHOMA STATE UNIVERSITY               Massey   \n",
       "4      201307           1000  OKLAHOMA STATE UNIVERSITY        Mauro-Herrera   \n",
       "\n",
       "  Cardholder First Initial                   Description  Amount  \\\n",
       "0                        C              GENERAL PURCHASE  890.00   \n",
       "1                        C                  ROOM CHARGES  368.96   \n",
       "2                        J              GENERAL PURCHASE  165.82   \n",
       "3                        T              GENERAL PURCHASE   96.39   \n",
       "4                        M  HAMMERMILL COPY PLUS COPY EA  125.96   \n",
       "\n",
       "           Vendor Transaction Date Posted Date  \\\n",
       "0           NACAS       2013-07-30  2013-07-31   \n",
       "1  SHERATON HOTEL       2013-07-30  2013-07-31   \n",
       "2  SEARS.COM 9300       2013-07-29  2013-07-31   \n",
       "3  WAL-MART #0137       2013-07-30  2013-07-31   \n",
       "4  STAPLES DIRECT       2013-07-30  2013-07-31   \n",
       "\n",
       "                        Merchant Category Code (MCC)  \n",
       "0        CHARITABLE AND SOCIAL SERVICE ORGANIZATIONS  \n",
       "1                                           SHERATON  \n",
       "2  DIRCT MARKETING/DIRCT MARKETERS--NOT ELSEWHERE...  \n",
       "3                    GROCERY STORES,AND SUPERMARKETS  \n",
       "4  STATIONERY, OFFICE SUPPLIES, PRINTING AND WRIT...  "
      ]
     },
     "execution_count": 2,
     "metadata": {},
     "output_type": "execute_result"
    }
   ],
   "source": [
    "df = pd.read_csv(r\"C:\\Users\\User\\Documents\\DATA ANALYST\\SELF STUDY\\MODULE 5\\HA\\HA 5.8\\res_purchase_card_(pcard)_fiscal_year_2014_3pcd-aiuu (1).csv\",\n",
    "                   parse_dates=['Transaction Date', 'Posted Date'])\n",
    "df.head()"
   ]
  },
  {
   "cell_type": "code",
   "execution_count": 3,
   "metadata": {
    "colab": {
     "base_uri": "https://localhost:8080/",
     "height": 206
    },
    "id": "xpJtZsq4UrHz",
    "outputId": "115d9810-c889-4647-edd5-4ca063fd1f59"
   },
   "outputs": [
    {
     "data": {
      "text/html": [
       "<div>\n",
       "<style scoped>\n",
       "    .dataframe tbody tr th:only-of-type {\n",
       "        vertical-align: middle;\n",
       "    }\n",
       "\n",
       "    .dataframe tbody tr th {\n",
       "        vertical-align: top;\n",
       "    }\n",
       "\n",
       "    .dataframe thead th {\n",
       "        text-align: right;\n",
       "    }\n",
       "</style>\n",
       "<table border=\"1\" class=\"dataframe\">\n",
       "  <thead>\n",
       "    <tr style=\"text-align: right;\">\n",
       "      <th></th>\n",
       "      <th>Year-Month</th>\n",
       "      <th>Agency Number</th>\n",
       "      <th>Agency Name</th>\n",
       "      <th>Cardholder Last Name</th>\n",
       "      <th>Cardholder First Initial</th>\n",
       "      <th>Description</th>\n",
       "      <th>Amount</th>\n",
       "      <th>Vendor</th>\n",
       "      <th>Transaction Date</th>\n",
       "      <th>Posted Date</th>\n",
       "      <th>Merchant Category Code (MCC)</th>\n",
       "      <th>full_name</th>\n",
       "    </tr>\n",
       "  </thead>\n",
       "  <tbody>\n",
       "    <tr>\n",
       "      <th>0</th>\n",
       "      <td>201307</td>\n",
       "      <td>1000</td>\n",
       "      <td>OKLAHOMA STATE UNIVERSITY</td>\n",
       "      <td>Mason</td>\n",
       "      <td>C</td>\n",
       "      <td>GENERAL PURCHASE</td>\n",
       "      <td>890.00</td>\n",
       "      <td>NACAS</td>\n",
       "      <td>2013-07-30</td>\n",
       "      <td>2013-07-31</td>\n",
       "      <td>CHARITABLE AND SOCIAL SERVICE ORGANIZATIONS</td>\n",
       "      <td>Mason, C</td>\n",
       "    </tr>\n",
       "    <tr>\n",
       "      <th>1</th>\n",
       "      <td>201307</td>\n",
       "      <td>1000</td>\n",
       "      <td>OKLAHOMA STATE UNIVERSITY</td>\n",
       "      <td>Mason</td>\n",
       "      <td>C</td>\n",
       "      <td>ROOM CHARGES</td>\n",
       "      <td>368.96</td>\n",
       "      <td>SHERATON HOTEL</td>\n",
       "      <td>2013-07-30</td>\n",
       "      <td>2013-07-31</td>\n",
       "      <td>SHERATON</td>\n",
       "      <td>Mason, C</td>\n",
       "    </tr>\n",
       "    <tr>\n",
       "      <th>2</th>\n",
       "      <td>201307</td>\n",
       "      <td>1000</td>\n",
       "      <td>OKLAHOMA STATE UNIVERSITY</td>\n",
       "      <td>Massey</td>\n",
       "      <td>J</td>\n",
       "      <td>GENERAL PURCHASE</td>\n",
       "      <td>165.82</td>\n",
       "      <td>SEARS.COM 9300</td>\n",
       "      <td>2013-07-29</td>\n",
       "      <td>2013-07-31</td>\n",
       "      <td>DIRCT MARKETING/DIRCT MARKETERS--NOT ELSEWHERE...</td>\n",
       "      <td>Massey, J</td>\n",
       "    </tr>\n",
       "    <tr>\n",
       "      <th>3</th>\n",
       "      <td>201307</td>\n",
       "      <td>1000</td>\n",
       "      <td>OKLAHOMA STATE UNIVERSITY</td>\n",
       "      <td>Massey</td>\n",
       "      <td>T</td>\n",
       "      <td>GENERAL PURCHASE</td>\n",
       "      <td>96.39</td>\n",
       "      <td>WAL-MART #0137</td>\n",
       "      <td>2013-07-30</td>\n",
       "      <td>2013-07-31</td>\n",
       "      <td>GROCERY STORES,AND SUPERMARKETS</td>\n",
       "      <td>Massey, T</td>\n",
       "    </tr>\n",
       "    <tr>\n",
       "      <th>4</th>\n",
       "      <td>201307</td>\n",
       "      <td>1000</td>\n",
       "      <td>OKLAHOMA STATE UNIVERSITY</td>\n",
       "      <td>Mauro-Herrera</td>\n",
       "      <td>M</td>\n",
       "      <td>HAMMERMILL COPY PLUS COPY EA</td>\n",
       "      <td>125.96</td>\n",
       "      <td>STAPLES DIRECT</td>\n",
       "      <td>2013-07-30</td>\n",
       "      <td>2013-07-31</td>\n",
       "      <td>STATIONERY, OFFICE SUPPLIES, PRINTING AND WRIT...</td>\n",
       "      <td>Mauro-Herrera, M</td>\n",
       "    </tr>\n",
       "  </tbody>\n",
       "</table>\n",
       "</div>"
      ],
      "text/plain": [
       "   Year-Month  Agency Number                Agency Name Cardholder Last Name  \\\n",
       "0      201307           1000  OKLAHOMA STATE UNIVERSITY                Mason   \n",
       "1      201307           1000  OKLAHOMA STATE UNIVERSITY                Mason   \n",
       "2      201307           1000  OKLAHOMA STATE UNIVERSITY               Massey   \n",
       "3      201307           1000  OKLAHOMA STATE UNIVERSITY               Massey   \n",
       "4      201307           1000  OKLAHOMA STATE UNIVERSITY        Mauro-Herrera   \n",
       "\n",
       "  Cardholder First Initial                   Description  Amount  \\\n",
       "0                        C              GENERAL PURCHASE  890.00   \n",
       "1                        C                  ROOM CHARGES  368.96   \n",
       "2                        J              GENERAL PURCHASE  165.82   \n",
       "3                        T              GENERAL PURCHASE   96.39   \n",
       "4                        M  HAMMERMILL COPY PLUS COPY EA  125.96   \n",
       "\n",
       "           Vendor Transaction Date Posted Date  \\\n",
       "0           NACAS       2013-07-30  2013-07-31   \n",
       "1  SHERATON HOTEL       2013-07-30  2013-07-31   \n",
       "2  SEARS.COM 9300       2013-07-29  2013-07-31   \n",
       "3  WAL-MART #0137       2013-07-30  2013-07-31   \n",
       "4  STAPLES DIRECT       2013-07-30  2013-07-31   \n",
       "\n",
       "                        Merchant Category Code (MCC)         full_name  \n",
       "0        CHARITABLE AND SOCIAL SERVICE ORGANIZATIONS          Mason, C  \n",
       "1                                           SHERATON          Mason, C  \n",
       "2  DIRCT MARKETING/DIRCT MARKETERS--NOT ELSEWHERE...         Massey, J  \n",
       "3                    GROCERY STORES,AND SUPERMARKETS         Massey, T  \n",
       "4  STATIONERY, OFFICE SUPPLIES, PRINTING AND WRIT...  Mauro-Herrera, M  "
      ]
     },
     "execution_count": 3,
     "metadata": {},
     "output_type": "execute_result"
    }
   ],
   "source": [
    "# full name column\n",
    "df['full_name'] = df['Cardholder Last Name'] + ', ' + df['Cardholder First Initial']\n",
    "\n",
    "df.head()"
   ]
  },
  {
   "cell_type": "code",
   "execution_count": 4,
   "metadata": {
    "colab": {
     "base_uri": "https://localhost:8080/",
     "height": 206
    },
    "id": "gZCB0HBbERrB",
    "outputId": "f0ce8bdf-005a-4f2b-976c-f14a28575864"
   },
   "outputs": [
    {
     "data": {
      "text/html": [
       "<div>\n",
       "<style scoped>\n",
       "    .dataframe tbody tr th:only-of-type {\n",
       "        vertical-align: middle;\n",
       "    }\n",
       "\n",
       "    .dataframe tbody tr th {\n",
       "        vertical-align: top;\n",
       "    }\n",
       "\n",
       "    .dataframe thead th {\n",
       "        text-align: right;\n",
       "    }\n",
       "</style>\n",
       "<table border=\"1\" class=\"dataframe\">\n",
       "  <thead>\n",
       "    <tr style=\"text-align: right;\">\n",
       "      <th></th>\n",
       "      <th>Year-Month</th>\n",
       "      <th>Agency Number</th>\n",
       "      <th>Agency Name</th>\n",
       "      <th>Cardholder Last Name</th>\n",
       "      <th>Cardholder First Initial</th>\n",
       "      <th>Description</th>\n",
       "      <th>Amount</th>\n",
       "      <th>Vendor</th>\n",
       "      <th>Transaction Date</th>\n",
       "      <th>Posted Date</th>\n",
       "      <th>Merchant Category Code (MCC)</th>\n",
       "      <th>full_name</th>\n",
       "    </tr>\n",
       "  </thead>\n",
       "  <tbody>\n",
       "    <tr>\n",
       "      <th>0</th>\n",
       "      <td>201307</td>\n",
       "      <td>1000</td>\n",
       "      <td>OKLAHOMA STATE UNIVERSITY</td>\n",
       "      <td>Mason</td>\n",
       "      <td>C</td>\n",
       "      <td>GENERAL PURCHASE</td>\n",
       "      <td>890.00</td>\n",
       "      <td>NACAS</td>\n",
       "      <td>2013-07-30</td>\n",
       "      <td>2013-07-31</td>\n",
       "      <td>CHARITABLE AND SOCIAL SERVICE ORGANIZATIONS</td>\n",
       "      <td>Mason, C</td>\n",
       "    </tr>\n",
       "    <tr>\n",
       "      <th>1</th>\n",
       "      <td>201307</td>\n",
       "      <td>1000</td>\n",
       "      <td>OKLAHOMA STATE UNIVERSITY</td>\n",
       "      <td>Mason</td>\n",
       "      <td>C</td>\n",
       "      <td>ROOM CHARGES</td>\n",
       "      <td>368.96</td>\n",
       "      <td>SHERATON HOTEL</td>\n",
       "      <td>2013-07-30</td>\n",
       "      <td>2013-07-31</td>\n",
       "      <td>SHERATON</td>\n",
       "      <td>Mason, C</td>\n",
       "    </tr>\n",
       "    <tr>\n",
       "      <th>2</th>\n",
       "      <td>201307</td>\n",
       "      <td>1000</td>\n",
       "      <td>OKLAHOMA STATE UNIVERSITY</td>\n",
       "      <td>Massey</td>\n",
       "      <td>J</td>\n",
       "      <td>GENERAL PURCHASE</td>\n",
       "      <td>165.82</td>\n",
       "      <td>SEARS.COM 9300</td>\n",
       "      <td>2013-07-29</td>\n",
       "      <td>2013-07-31</td>\n",
       "      <td>DIRCT MARKETING/DIRCT MARKETERS--NOT ELSEWHERE...</td>\n",
       "      <td>Massey, J</td>\n",
       "    </tr>\n",
       "    <tr>\n",
       "      <th>3</th>\n",
       "      <td>201307</td>\n",
       "      <td>1000</td>\n",
       "      <td>OKLAHOMA STATE UNIVERSITY</td>\n",
       "      <td>Massey</td>\n",
       "      <td>T</td>\n",
       "      <td>GENERAL PURCHASE</td>\n",
       "      <td>96.39</td>\n",
       "      <td>WAL-MART #0137</td>\n",
       "      <td>2013-07-30</td>\n",
       "      <td>2013-07-31</td>\n",
       "      <td>GROCERY STORES,AND SUPERMARKETS</td>\n",
       "      <td>Massey, T</td>\n",
       "    </tr>\n",
       "    <tr>\n",
       "      <th>4</th>\n",
       "      <td>201307</td>\n",
       "      <td>1000</td>\n",
       "      <td>OKLAHOMA STATE UNIVERSITY</td>\n",
       "      <td>Mauro-Herrera</td>\n",
       "      <td>M</td>\n",
       "      <td>HAMMERMILL COPY PLUS COPY EA</td>\n",
       "      <td>125.96</td>\n",
       "      <td>STAPLES DIRECT</td>\n",
       "      <td>2013-07-30</td>\n",
       "      <td>2013-07-31</td>\n",
       "      <td>STATIONERY, OFFICE SUPPLIES, PRINTING AND WRIT...</td>\n",
       "      <td>Mauro-Herrera, M</td>\n",
       "    </tr>\n",
       "  </tbody>\n",
       "</table>\n",
       "</div>"
      ],
      "text/plain": [
       "   Year-Month  Agency Number                Agency Name Cardholder Last Name  \\\n",
       "0      201307           1000  OKLAHOMA STATE UNIVERSITY                Mason   \n",
       "1      201307           1000  OKLAHOMA STATE UNIVERSITY                Mason   \n",
       "2      201307           1000  OKLAHOMA STATE UNIVERSITY               Massey   \n",
       "3      201307           1000  OKLAHOMA STATE UNIVERSITY               Massey   \n",
       "4      201307           1000  OKLAHOMA STATE UNIVERSITY        Mauro-Herrera   \n",
       "\n",
       "  Cardholder First Initial                   Description  Amount  \\\n",
       "0                        C              GENERAL PURCHASE  890.00   \n",
       "1                        C                  ROOM CHARGES  368.96   \n",
       "2                        J              GENERAL PURCHASE  165.82   \n",
       "3                        T              GENERAL PURCHASE   96.39   \n",
       "4                        M  HAMMERMILL COPY PLUS COPY EA  125.96   \n",
       "\n",
       "           Vendor Transaction Date Posted Date  \\\n",
       "0           NACAS       2013-07-30  2013-07-31   \n",
       "1  SHERATON HOTEL       2013-07-30  2013-07-31   \n",
       "2  SEARS.COM 9300       2013-07-29  2013-07-31   \n",
       "3  WAL-MART #0137       2013-07-30  2013-07-31   \n",
       "4  STAPLES DIRECT       2013-07-30  2013-07-31   \n",
       "\n",
       "                        Merchant Category Code (MCC)         full_name  \n",
       "0        CHARITABLE AND SOCIAL SERVICE ORGANIZATIONS          Mason, C  \n",
       "1                                           SHERATON          Mason, C  \n",
       "2  DIRCT MARKETING/DIRCT MARKETERS--NOT ELSEWHERE...         Massey, J  \n",
       "3                    GROCERY STORES,AND SUPERMARKETS         Massey, T  \n",
       "4  STATIONERY, OFFICE SUPPLIES, PRINTING AND WRIT...  Mauro-Herrera, M  "
      ]
     },
     "execution_count": 4,
     "metadata": {},
     "output_type": "execute_result"
    }
   ],
   "source": [
    "# remove agency (Do not include transactions made by agencies (customer name = agency))\n",
    "df = df[df['Agency Number'].astype(str)!=df['Cardholder Last Name']]\n",
    "df.head()"
   ]
  },
  {
   "cell_type": "code",
   "execution_count": 5,
   "metadata": {
    "colab": {
     "base_uri": "https://localhost:8080/",
     "height": 206
    },
    "id": "zBzRbKYsD1yp",
    "outputId": "7af8abd0-5929-495b-da6b-9a45be3113d7"
   },
   "outputs": [
    {
     "data": {
      "text/html": [
       "<div>\n",
       "<style scoped>\n",
       "    .dataframe tbody tr th:only-of-type {\n",
       "        vertical-align: middle;\n",
       "    }\n",
       "\n",
       "    .dataframe tbody tr th {\n",
       "        vertical-align: top;\n",
       "    }\n",
       "\n",
       "    .dataframe thead th {\n",
       "        text-align: right;\n",
       "    }\n",
       "</style>\n",
       "<table border=\"1\" class=\"dataframe\">\n",
       "  <thead>\n",
       "    <tr style=\"text-align: right;\">\n",
       "      <th></th>\n",
       "      <th>Year-Month</th>\n",
       "      <th>Agency Number</th>\n",
       "      <th>Agency Name</th>\n",
       "      <th>Cardholder Last Name</th>\n",
       "      <th>Cardholder First Initial</th>\n",
       "      <th>Description</th>\n",
       "      <th>Amount</th>\n",
       "      <th>Vendor</th>\n",
       "      <th>Transaction Date</th>\n",
       "      <th>Posted Date</th>\n",
       "      <th>Merchant Category Code (MCC)</th>\n",
       "      <th>full_name</th>\n",
       "    </tr>\n",
       "  </thead>\n",
       "  <tbody>\n",
       "    <tr>\n",
       "      <th>0</th>\n",
       "      <td>201307</td>\n",
       "      <td>1000</td>\n",
       "      <td>OKLAHOMA STATE UNIVERSITY</td>\n",
       "      <td>Mason</td>\n",
       "      <td>C</td>\n",
       "      <td>GENERAL PURCHASE</td>\n",
       "      <td>890.00</td>\n",
       "      <td>NACAS</td>\n",
       "      <td>2013-07-30</td>\n",
       "      <td>2013-07-31</td>\n",
       "      <td>CHARITABLE AND SOCIAL SERVICE ORGANIZATIONS</td>\n",
       "      <td>Mason, C</td>\n",
       "    </tr>\n",
       "    <tr>\n",
       "      <th>1</th>\n",
       "      <td>201307</td>\n",
       "      <td>1000</td>\n",
       "      <td>OKLAHOMA STATE UNIVERSITY</td>\n",
       "      <td>Mason</td>\n",
       "      <td>C</td>\n",
       "      <td>ROOM CHARGES</td>\n",
       "      <td>368.96</td>\n",
       "      <td>SHERATON HOTEL</td>\n",
       "      <td>2013-07-30</td>\n",
       "      <td>2013-07-31</td>\n",
       "      <td>SHERATON</td>\n",
       "      <td>Mason, C</td>\n",
       "    </tr>\n",
       "    <tr>\n",
       "      <th>2</th>\n",
       "      <td>201307</td>\n",
       "      <td>1000</td>\n",
       "      <td>OKLAHOMA STATE UNIVERSITY</td>\n",
       "      <td>Massey</td>\n",
       "      <td>J</td>\n",
       "      <td>GENERAL PURCHASE</td>\n",
       "      <td>165.82</td>\n",
       "      <td>SEARS.COM 9300</td>\n",
       "      <td>2013-07-29</td>\n",
       "      <td>2013-07-31</td>\n",
       "      <td>DIRCT MARKETING/DIRCT MARKETERS--NOT ELSEWHERE...</td>\n",
       "      <td>Massey, J</td>\n",
       "    </tr>\n",
       "    <tr>\n",
       "      <th>3</th>\n",
       "      <td>201307</td>\n",
       "      <td>1000</td>\n",
       "      <td>OKLAHOMA STATE UNIVERSITY</td>\n",
       "      <td>Massey</td>\n",
       "      <td>T</td>\n",
       "      <td>GENERAL PURCHASE</td>\n",
       "      <td>96.39</td>\n",
       "      <td>WAL-MART #0137</td>\n",
       "      <td>2013-07-30</td>\n",
       "      <td>2013-07-31</td>\n",
       "      <td>GROCERY STORES,AND SUPERMARKETS</td>\n",
       "      <td>Massey, T</td>\n",
       "    </tr>\n",
       "    <tr>\n",
       "      <th>4</th>\n",
       "      <td>201307</td>\n",
       "      <td>1000</td>\n",
       "      <td>OKLAHOMA STATE UNIVERSITY</td>\n",
       "      <td>Mauro-Herrera</td>\n",
       "      <td>M</td>\n",
       "      <td>HAMMERMILL COPY PLUS COPY EA</td>\n",
       "      <td>125.96</td>\n",
       "      <td>STAPLES DIRECT</td>\n",
       "      <td>2013-07-30</td>\n",
       "      <td>2013-07-31</td>\n",
       "      <td>STATIONERY, OFFICE SUPPLIES, PRINTING AND WRIT...</td>\n",
       "      <td>Mauro-Herrera, M</td>\n",
       "    </tr>\n",
       "  </tbody>\n",
       "</table>\n",
       "</div>"
      ],
      "text/plain": [
       "   Year-Month  Agency Number                Agency Name Cardholder Last Name  \\\n",
       "0      201307           1000  OKLAHOMA STATE UNIVERSITY                Mason   \n",
       "1      201307           1000  OKLAHOMA STATE UNIVERSITY                Mason   \n",
       "2      201307           1000  OKLAHOMA STATE UNIVERSITY               Massey   \n",
       "3      201307           1000  OKLAHOMA STATE UNIVERSITY               Massey   \n",
       "4      201307           1000  OKLAHOMA STATE UNIVERSITY        Mauro-Herrera   \n",
       "\n",
       "  Cardholder First Initial                   Description  Amount  \\\n",
       "0                        C              GENERAL PURCHASE  890.00   \n",
       "1                        C                  ROOM CHARGES  368.96   \n",
       "2                        J              GENERAL PURCHASE  165.82   \n",
       "3                        T              GENERAL PURCHASE   96.39   \n",
       "4                        M  HAMMERMILL COPY PLUS COPY EA  125.96   \n",
       "\n",
       "           Vendor Transaction Date Posted Date  \\\n",
       "0           NACAS       2013-07-30  2013-07-31   \n",
       "1  SHERATON HOTEL       2013-07-30  2013-07-31   \n",
       "2  SEARS.COM 9300       2013-07-29  2013-07-31   \n",
       "3  WAL-MART #0137       2013-07-30  2013-07-31   \n",
       "4  STAPLES DIRECT       2013-07-30  2013-07-31   \n",
       "\n",
       "                        Merchant Category Code (MCC)         full_name  \n",
       "0        CHARITABLE AND SOCIAL SERVICE ORGANIZATIONS          Mason, C  \n",
       "1                                           SHERATON          Mason, C  \n",
       "2  DIRCT MARKETING/DIRCT MARKETERS--NOT ELSEWHERE...         Massey, J  \n",
       "3                    GROCERY STORES,AND SUPERMARKETS         Massey, T  \n",
       "4  STATIONERY, OFFICE SUPPLIES, PRINTING AND WRIT...  Mauro-Herrera, M  "
      ]
     },
     "execution_count": 5,
     "metadata": {},
     "output_type": "execute_result"
    }
   ],
   "source": [
    "# remove negative amounts\n",
    "df = df[df['Amount']>0]\n",
    "df.head()"
   ]
  },
  {
   "cell_type": "markdown",
   "metadata": {
    "id": "H6PwR3aVVe2v"
   },
   "source": [
    "# RFM Analysis"
   ]
  },
  {
   "cell_type": "code",
   "execution_count": 6,
   "metadata": {
    "colab": {
     "base_uri": "https://localhost:8080/"
    },
    "id": "ONiVdUit7CDM",
    "outputId": "a06c5cb0-e25b-42c0-d152-881678451626"
   },
   "outputs": [
    {
     "data": {
      "text/plain": [
       "datetime.datetime(2014, 7, 1, 0, 0)"
      ]
     },
     "execution_count": 6,
     "metadata": {},
     "output_type": "execute_result"
    }
   ],
   "source": [
    "import datetime\n",
    "\n",
    "current_date = datetime.datetime(2014, 7, 1)\n",
    "current_date"
   ]
  },
  {
   "cell_type": "markdown",
   "metadata": {
    "id": "EZSoFehNccwl"
   },
   "source": [
    "### Recency"
   ]
  },
  {
   "cell_type": "code",
   "execution_count": 7,
   "metadata": {
    "id": "Pk4nLy1q9YJ_"
   },
   "outputs": [],
   "source": [
    "# get max transaction date per customer\n",
    "df_latest_invoice = df.groupby('full_name')['Transaction Date'].max()"
   ]
  },
  {
   "cell_type": "code",
   "execution_count": 8,
   "metadata": {
    "id": "hKbfwzsH_UGu"
   },
   "outputs": [],
   "source": [
    "# get number of days between latest invoice date and current date\n",
    "# .dt.days means that we only get the actual days (not decimal)\n",
    "df_recency = (current_date - df_latest_invoice).dt.days"
   ]
  },
  {
   "cell_type": "markdown",
   "metadata": {
    "id": "7kyL1NcSfkZb"
   },
   "source": [
    "### Frequency"
   ]
  },
  {
   "cell_type": "code",
   "execution_count": 9,
   "metadata": {
    "id": "mkHPmxMCJqrq"
   },
   "outputs": [],
   "source": [
    "# get frequency (count)\n",
    "df_frequency = df.groupby('full_name')['full_name'].count()"
   ]
  },
  {
   "cell_type": "markdown",
   "metadata": {
    "id": "kYwf1j_if45l"
   },
   "source": [
    "### Monetary"
   ]
  },
  {
   "cell_type": "code",
   "execution_count": 10,
   "metadata": {
    "id": "7VB61EJk-Epy"
   },
   "outputs": [],
   "source": [
    "# get the total amount (sum of all amounts)\n",
    "df_monetary = df.groupby('full_name')['Amount'].sum()"
   ]
  },
  {
   "cell_type": "markdown",
   "metadata": {
    "id": "xcZdztMdgcne"
   },
   "source": [
    "## RFM Scores"
   ]
  },
  {
   "cell_type": "markdown",
   "metadata": {
    "id": "DQi2ST1R_urm"
   },
   "source": [
    "We now merge these tables into a single dataframe. We put each series together in a dictionary and use `pd.DataFrame`"
   ]
  },
  {
   "cell_type": "code",
   "execution_count": 11,
   "metadata": {
    "colab": {
     "base_uri": "https://localhost:8080/",
     "height": 455
    },
    "id": "POXLvGls-zVg",
    "outputId": "d8e57321-4230-49de-bbf8-70704dd5c5d0"
   },
   "outputs": [
    {
     "data": {
      "text/html": [
       "<div>\n",
       "<style scoped>\n",
       "    .dataframe tbody tr th:only-of-type {\n",
       "        vertical-align: middle;\n",
       "    }\n",
       "\n",
       "    .dataframe tbody tr th {\n",
       "        vertical-align: top;\n",
       "    }\n",
       "\n",
       "    .dataframe thead th {\n",
       "        text-align: right;\n",
       "    }\n",
       "</style>\n",
       "<table border=\"1\" class=\"dataframe\">\n",
       "  <thead>\n",
       "    <tr style=\"text-align: right;\">\n",
       "      <th></th>\n",
       "      <th>recency</th>\n",
       "      <th>frequency</th>\n",
       "      <th>monetary</th>\n",
       "    </tr>\n",
       "    <tr>\n",
       "      <th>full_name</th>\n",
       "      <th></th>\n",
       "      <th></th>\n",
       "      <th></th>\n",
       "    </tr>\n",
       "  </thead>\n",
       "  <tbody>\n",
       "    <tr>\n",
       "      <th>AARON, B</th>\n",
       "      <td>43</td>\n",
       "      <td>3</td>\n",
       "      <td>1390.00</td>\n",
       "    </tr>\n",
       "    <tr>\n",
       "      <th>ACREE, T</th>\n",
       "      <td>7</td>\n",
       "      <td>85</td>\n",
       "      <td>27991.45</td>\n",
       "    </tr>\n",
       "    <tr>\n",
       "      <th>ADAMS, C</th>\n",
       "      <td>78</td>\n",
       "      <td>23</td>\n",
       "      <td>1054.71</td>\n",
       "    </tr>\n",
       "    <tr>\n",
       "      <th>ADAMS, K</th>\n",
       "      <td>13</td>\n",
       "      <td>68</td>\n",
       "      <td>8067.13</td>\n",
       "    </tr>\n",
       "    <tr>\n",
       "      <th>ADAMS, S</th>\n",
       "      <td>32</td>\n",
       "      <td>31</td>\n",
       "      <td>2937.56</td>\n",
       "    </tr>\n",
       "    <tr>\n",
       "      <th>...</th>\n",
       "      <td>...</td>\n",
       "      <td>...</td>\n",
       "      <td>...</td>\n",
       "    </tr>\n",
       "    <tr>\n",
       "      <th>cohen, T</th>\n",
       "      <td>33</td>\n",
       "      <td>142</td>\n",
       "      <td>9882.98</td>\n",
       "    </tr>\n",
       "    <tr>\n",
       "      <th>d'Offay, J</th>\n",
       "      <td>19</td>\n",
       "      <td>16</td>\n",
       "      <td>3758.53</td>\n",
       "    </tr>\n",
       "    <tr>\n",
       "      <th>de Leon, R</th>\n",
       "      <td>18</td>\n",
       "      <td>82</td>\n",
       "      <td>21910.27</td>\n",
       "    </tr>\n",
       "    <tr>\n",
       "      <th>owell, K</th>\n",
       "      <td>152</td>\n",
       "      <td>59</td>\n",
       "      <td>21861.72</td>\n",
       "    </tr>\n",
       "    <tr>\n",
       "      <th>russell, s</th>\n",
       "      <td>3</td>\n",
       "      <td>33</td>\n",
       "      <td>10805.58</td>\n",
       "    </tr>\n",
       "  </tbody>\n",
       "</table>\n",
       "<p>5191 rows × 3 columns</p>\n",
       "</div>"
      ],
      "text/plain": [
       "            recency  frequency  monetary\n",
       "full_name                               \n",
       "AARON, B         43          3   1390.00\n",
       "ACREE, T          7         85  27991.45\n",
       "ADAMS, C         78         23   1054.71\n",
       "ADAMS, K         13         68   8067.13\n",
       "ADAMS, S         32         31   2937.56\n",
       "...             ...        ...       ...\n",
       "cohen, T         33        142   9882.98\n",
       "d'Offay, J       19         16   3758.53\n",
       "de Leon, R       18         82  21910.27\n",
       "owell, K        152         59  21861.72\n",
       "russell, s        3         33  10805.58\n",
       "\n",
       "[5191 rows x 3 columns]"
      ]
     },
     "execution_count": 11,
     "metadata": {},
     "output_type": "execute_result"
    }
   ],
   "source": [
    "df_rfm = pd.DataFrame({'recency':df_recency, 'frequency':df_frequency, 'monetary':df_monetary})\n",
    "\n",
    "df_rfm"
   ]
  },
  {
   "cell_type": "markdown",
   "metadata": {
    "id": "CDazhdReEcaI"
   },
   "source": [
    "#### Calculate RFM scores. Use quantiles (0.25, 0.50, 0.75) to map the scores from 1 to 4"
   ]
  },
  {
   "cell_type": "code",
   "execution_count": 12,
   "metadata": {
    "colab": {
     "base_uri": "https://localhost:8080/",
     "height": 143
    },
    "id": "p_RwU_3YEcaJ",
    "outputId": "90ed3cd3-2908-4438-9781-70ee689d9891"
   },
   "outputs": [
    {
     "data": {
      "text/html": [
       "<div>\n",
       "<style scoped>\n",
       "    .dataframe tbody tr th:only-of-type {\n",
       "        vertical-align: middle;\n",
       "    }\n",
       "\n",
       "    .dataframe tbody tr th {\n",
       "        vertical-align: top;\n",
       "    }\n",
       "\n",
       "    .dataframe thead th {\n",
       "        text-align: right;\n",
       "    }\n",
       "</style>\n",
       "<table border=\"1\" class=\"dataframe\">\n",
       "  <thead>\n",
       "    <tr style=\"text-align: right;\">\n",
       "      <th></th>\n",
       "      <th>recency</th>\n",
       "      <th>frequency</th>\n",
       "      <th>monetary</th>\n",
       "    </tr>\n",
       "  </thead>\n",
       "  <tbody>\n",
       "    <tr>\n",
       "      <th>0.25</th>\n",
       "      <td>5.0</td>\n",
       "      <td>12.0</td>\n",
       "      <td>2229.170</td>\n",
       "    </tr>\n",
       "    <tr>\n",
       "      <th>0.50</th>\n",
       "      <td>14.0</td>\n",
       "      <td>34.0</td>\n",
       "      <td>7874.830</td>\n",
       "    </tr>\n",
       "    <tr>\n",
       "      <th>0.75</th>\n",
       "      <td>54.0</td>\n",
       "      <td>89.0</td>\n",
       "      <td>24446.665</td>\n",
       "    </tr>\n",
       "  </tbody>\n",
       "</table>\n",
       "</div>"
      ],
      "text/plain": [
       "      recency  frequency   monetary\n",
       "0.25      5.0       12.0   2229.170\n",
       "0.50     14.0       34.0   7874.830\n",
       "0.75     54.0       89.0  24446.665"
      ]
     },
     "execution_count": 12,
     "metadata": {},
     "output_type": "execute_result"
    }
   ],
   "source": [
    "quantiles = df_rfm.quantile(q=[0.25,0.5,0.75])\n",
    "quantiles"
   ]
  },
  {
   "cell_type": "markdown",
   "metadata": {
    "id": "_Y-Lshn6HbeC"
   },
   "source": [
    "Using the quantiles function, we can get our thresholds for segmentation.\n",
    "\n",
    "1. For recency score (lower is better):\n",
    "- Score = 1; quantile between 0-0.25\n",
    "- Score = 2; quantile between 0.25-0.5\n",
    "- Score = 3; quantile between 0.5-0.75\n",
    "- Score = 4; quantile between 0.75 - 1\n",
    "\n",
    "<br>  \n",
    "2. For frequency and monetary score (higher is better):\n",
    "- Score = 1; quantile between 0.75 - 1\n",
    "- Score = 2; quantile between 0.5-0.75\n",
    "- Score = 3; quantile between 0.25-0.5\n",
    "- Score = 4; quantile between 0-0.25\n",
    "\n",
    "<br>  "
   ]
  },
  {
   "cell_type": "markdown",
   "metadata": {
    "id": "ZcPJW09SHjfq"
   },
   "source": [
    "#### Recency Score"
   ]
  },
  {
   "cell_type": "code",
   "execution_count": 13,
   "metadata": {
    "colab": {
     "base_uri": "https://localhost:8080/"
    },
    "id": "6tlxixSMHbOd",
    "outputId": "357750df-8dea-4155-95c5-8c54eb06105c"
   },
   "outputs": [
    {
     "data": {
      "text/plain": [
       "{0.25: 5.0, 0.5: 14.0, 0.75: 54.0}"
      ]
     },
     "execution_count": 13,
     "metadata": {},
     "output_type": "execute_result"
    }
   ],
   "source": [
    "# create a dictionary with the recency quantiles\n",
    "recency_dict = quantiles['recency'].to_dict()\n",
    "recency_dict"
   ]
  },
  {
   "cell_type": "code",
   "execution_count": 14,
   "metadata": {
    "colab": {
     "base_uri": "https://localhost:8080/",
     "height": 237
    },
    "id": "MuIjqr1-H7Wr",
    "outputId": "eba17db2-6a21-454d-c6f6-747c24b282a6"
   },
   "outputs": [
    {
     "data": {
      "text/html": [
       "<div>\n",
       "<style scoped>\n",
       "    .dataframe tbody tr th:only-of-type {\n",
       "        vertical-align: middle;\n",
       "    }\n",
       "\n",
       "    .dataframe tbody tr th {\n",
       "        vertical-align: top;\n",
       "    }\n",
       "\n",
       "    .dataframe thead th {\n",
       "        text-align: right;\n",
       "    }\n",
       "</style>\n",
       "<table border=\"1\" class=\"dataframe\">\n",
       "  <thead>\n",
       "    <tr style=\"text-align: right;\">\n",
       "      <th></th>\n",
       "      <th>recency</th>\n",
       "      <th>frequency</th>\n",
       "      <th>monetary</th>\n",
       "      <th>recency_score</th>\n",
       "    </tr>\n",
       "    <tr>\n",
       "      <th>full_name</th>\n",
       "      <th></th>\n",
       "      <th></th>\n",
       "      <th></th>\n",
       "      <th></th>\n",
       "    </tr>\n",
       "  </thead>\n",
       "  <tbody>\n",
       "    <tr>\n",
       "      <th>AARON, B</th>\n",
       "      <td>43</td>\n",
       "      <td>3</td>\n",
       "      <td>1390.00</td>\n",
       "      <td>3</td>\n",
       "    </tr>\n",
       "    <tr>\n",
       "      <th>ACREE, T</th>\n",
       "      <td>7</td>\n",
       "      <td>85</td>\n",
       "      <td>27991.45</td>\n",
       "      <td>2</td>\n",
       "    </tr>\n",
       "    <tr>\n",
       "      <th>ADAMS, C</th>\n",
       "      <td>78</td>\n",
       "      <td>23</td>\n",
       "      <td>1054.71</td>\n",
       "      <td>4</td>\n",
       "    </tr>\n",
       "    <tr>\n",
       "      <th>ADAMS, K</th>\n",
       "      <td>13</td>\n",
       "      <td>68</td>\n",
       "      <td>8067.13</td>\n",
       "      <td>2</td>\n",
       "    </tr>\n",
       "    <tr>\n",
       "      <th>ADAMS, S</th>\n",
       "      <td>32</td>\n",
       "      <td>31</td>\n",
       "      <td>2937.56</td>\n",
       "      <td>3</td>\n",
       "    </tr>\n",
       "  </tbody>\n",
       "</table>\n",
       "</div>"
      ],
      "text/plain": [
       "           recency  frequency  monetary recency_score\n",
       "full_name                                            \n",
       "AARON, B        43          3   1390.00             3\n",
       "ACREE, T         7         85  27991.45             2\n",
       "ADAMS, C        78         23   1054.71             4\n",
       "ADAMS, K        13         68   8067.13             2\n",
       "ADAMS, S        32         31   2937.56             3"
      ]
     },
     "execution_count": 14,
     "metadata": {},
     "output_type": "execute_result"
    }
   ],
   "source": [
    "# create a function to calculate recency score\n",
    "def recency_score(recency, recency_dict):\n",
    "    if recency <= recency_dict[0.25]:\n",
    "        # recency_score = 1 if recency is between 0-0.25 quantile\n",
    "        return '1'\n",
    "    elif recency <= recency_dict[0.50]:\n",
    "        # recency_score = 2 if recency is between 0.25-0.5 quantile\n",
    "        return '2'\n",
    "    elif recency <= recency_dict[0.75]:\n",
    "        # recency_score = 3 if recency is between 0.5-0.75 quantile\n",
    "        return '3'\n",
    "    else:\n",
    "        # recency_score = 4 if recency is between 0.75-1 quantile\n",
    "        return '4'\n",
    "\n",
    "df_rfm['recency_score'] = df_rfm['recency'].apply(recency_score, args=(recency_dict,))\n",
    "df_rfm.head()"
   ]
  },
  {
   "cell_type": "markdown",
   "metadata": {
    "id": "Mn7vXbbAHmxw"
   },
   "source": [
    "### Frequency Score"
   ]
  },
  {
   "cell_type": "code",
   "execution_count": 15,
   "metadata": {
    "colab": {
     "base_uri": "https://localhost:8080/"
    },
    "id": "ezcLpGn1HpQq",
    "outputId": "1ac0d416-4863-43e4-dc5c-c943b53f25d9"
   },
   "outputs": [
    {
     "data": {
      "text/plain": [
       "{0.25: 12.0, 0.5: 34.0, 0.75: 89.0}"
      ]
     },
     "execution_count": 15,
     "metadata": {},
     "output_type": "execute_result"
    }
   ],
   "source": [
    "# create a dictionary with the frequency quantiles\n",
    "frequency_dict = quantiles['frequency'].to_dict()\n",
    "frequency_dict"
   ]
  },
  {
   "cell_type": "code",
   "execution_count": 16,
   "metadata": {
    "colab": {
     "base_uri": "https://localhost:8080/",
     "height": 237
    },
    "id": "iVLyaz2-IJCV",
    "outputId": "5f490c3c-3d16-4812-81f0-a4a106286f7f"
   },
   "outputs": [
    {
     "data": {
      "text/html": [
       "<div>\n",
       "<style scoped>\n",
       "    .dataframe tbody tr th:only-of-type {\n",
       "        vertical-align: middle;\n",
       "    }\n",
       "\n",
       "    .dataframe tbody tr th {\n",
       "        vertical-align: top;\n",
       "    }\n",
       "\n",
       "    .dataframe thead th {\n",
       "        text-align: right;\n",
       "    }\n",
       "</style>\n",
       "<table border=\"1\" class=\"dataframe\">\n",
       "  <thead>\n",
       "    <tr style=\"text-align: right;\">\n",
       "      <th></th>\n",
       "      <th>recency</th>\n",
       "      <th>frequency</th>\n",
       "      <th>monetary</th>\n",
       "      <th>recency_score</th>\n",
       "      <th>frequency_score</th>\n",
       "    </tr>\n",
       "    <tr>\n",
       "      <th>full_name</th>\n",
       "      <th></th>\n",
       "      <th></th>\n",
       "      <th></th>\n",
       "      <th></th>\n",
       "      <th></th>\n",
       "    </tr>\n",
       "  </thead>\n",
       "  <tbody>\n",
       "    <tr>\n",
       "      <th>AARON, B</th>\n",
       "      <td>43</td>\n",
       "      <td>3</td>\n",
       "      <td>1390.00</td>\n",
       "      <td>3</td>\n",
       "      <td>4</td>\n",
       "    </tr>\n",
       "    <tr>\n",
       "      <th>ACREE, T</th>\n",
       "      <td>7</td>\n",
       "      <td>85</td>\n",
       "      <td>27991.45</td>\n",
       "      <td>2</td>\n",
       "      <td>2</td>\n",
       "    </tr>\n",
       "    <tr>\n",
       "      <th>ADAMS, C</th>\n",
       "      <td>78</td>\n",
       "      <td>23</td>\n",
       "      <td>1054.71</td>\n",
       "      <td>4</td>\n",
       "      <td>3</td>\n",
       "    </tr>\n",
       "    <tr>\n",
       "      <th>ADAMS, K</th>\n",
       "      <td>13</td>\n",
       "      <td>68</td>\n",
       "      <td>8067.13</td>\n",
       "      <td>2</td>\n",
       "      <td>2</td>\n",
       "    </tr>\n",
       "    <tr>\n",
       "      <th>ADAMS, S</th>\n",
       "      <td>32</td>\n",
       "      <td>31</td>\n",
       "      <td>2937.56</td>\n",
       "      <td>3</td>\n",
       "      <td>3</td>\n",
       "    </tr>\n",
       "  </tbody>\n",
       "</table>\n",
       "</div>"
      ],
      "text/plain": [
       "           recency  frequency  monetary recency_score frequency_score\n",
       "full_name                                                            \n",
       "AARON, B        43          3   1390.00             3               4\n",
       "ACREE, T         7         85  27991.45             2               2\n",
       "ADAMS, C        78         23   1054.71             4               3\n",
       "ADAMS, K        13         68   8067.13             2               2\n",
       "ADAMS, S        32         31   2937.56             3               3"
      ]
     },
     "execution_count": 16,
     "metadata": {},
     "output_type": "execute_result"
    }
   ],
   "source": [
    "# create a function to calculate frequency score\n",
    "def frequency_score(frequency, frequency_dict):\n",
    "    if frequency <= frequency_dict[0.25]:\n",
    "        # frequency_score = 4 if frequency is between 0-0.25 quantile\n",
    "        return '4'\n",
    "    elif frequency <= frequency_dict[0.50]:\n",
    "        # frequency_score = 3 if frequency is between 0.25-0.5 quantile\n",
    "        return '3'\n",
    "    elif frequency <= frequency_dict[0.75]:\n",
    "        # frequency_score = 2 if frequency is between 0.5-0.75 quantile\n",
    "        return '2'\n",
    "    else:\n",
    "        # frequency_score = 1 if frequency is between 0.75-1 quantile\n",
    "        return '1'\n",
    "\n",
    "df_rfm['frequency_score'] = df_rfm['frequency'].apply(frequency_score, args=(frequency_dict,))\n",
    "df_rfm.head()"
   ]
  },
  {
   "cell_type": "markdown",
   "metadata": {
    "id": "xmF-hBPLITF3"
   },
   "source": [
    "### Monetary Score"
   ]
  },
  {
   "cell_type": "code",
   "execution_count": 17,
   "metadata": {
    "colab": {
     "base_uri": "https://localhost:8080/"
    },
    "id": "IvfD3uZ4ITZB",
    "outputId": "e59a73cf-d204-4a83-a01a-c46526a15f94"
   },
   "outputs": [
    {
     "data": {
      "text/plain": [
       "{0.25: 2229.17, 0.5: 7874.830000000001, 0.75: 24446.665}"
      ]
     },
     "execution_count": 17,
     "metadata": {},
     "output_type": "execute_result"
    }
   ],
   "source": [
    "# create a dictionary with the monetary quantiles\n",
    "monetary_dict = quantiles['monetary'].to_dict()\n",
    "monetary_dict"
   ]
  },
  {
   "cell_type": "code",
   "execution_count": 18,
   "metadata": {
    "colab": {
     "base_uri": "https://localhost:8080/",
     "height": 237
    },
    "id": "0F2WGW11IUFo",
    "outputId": "376c76f6-d554-448b-d7b0-17df1e8c9324"
   },
   "outputs": [
    {
     "data": {
      "text/html": [
       "<div>\n",
       "<style scoped>\n",
       "    .dataframe tbody tr th:only-of-type {\n",
       "        vertical-align: middle;\n",
       "    }\n",
       "\n",
       "    .dataframe tbody tr th {\n",
       "        vertical-align: top;\n",
       "    }\n",
       "\n",
       "    .dataframe thead th {\n",
       "        text-align: right;\n",
       "    }\n",
       "</style>\n",
       "<table border=\"1\" class=\"dataframe\">\n",
       "  <thead>\n",
       "    <tr style=\"text-align: right;\">\n",
       "      <th></th>\n",
       "      <th>recency</th>\n",
       "      <th>frequency</th>\n",
       "      <th>monetary</th>\n",
       "      <th>recency_score</th>\n",
       "      <th>frequency_score</th>\n",
       "      <th>monetary_score</th>\n",
       "    </tr>\n",
       "    <tr>\n",
       "      <th>full_name</th>\n",
       "      <th></th>\n",
       "      <th></th>\n",
       "      <th></th>\n",
       "      <th></th>\n",
       "      <th></th>\n",
       "      <th></th>\n",
       "    </tr>\n",
       "  </thead>\n",
       "  <tbody>\n",
       "    <tr>\n",
       "      <th>AARON, B</th>\n",
       "      <td>43</td>\n",
       "      <td>3</td>\n",
       "      <td>1390.00</td>\n",
       "      <td>3</td>\n",
       "      <td>4</td>\n",
       "      <td>4</td>\n",
       "    </tr>\n",
       "    <tr>\n",
       "      <th>ACREE, T</th>\n",
       "      <td>7</td>\n",
       "      <td>85</td>\n",
       "      <td>27991.45</td>\n",
       "      <td>2</td>\n",
       "      <td>2</td>\n",
       "      <td>1</td>\n",
       "    </tr>\n",
       "    <tr>\n",
       "      <th>ADAMS, C</th>\n",
       "      <td>78</td>\n",
       "      <td>23</td>\n",
       "      <td>1054.71</td>\n",
       "      <td>4</td>\n",
       "      <td>3</td>\n",
       "      <td>4</td>\n",
       "    </tr>\n",
       "    <tr>\n",
       "      <th>ADAMS, K</th>\n",
       "      <td>13</td>\n",
       "      <td>68</td>\n",
       "      <td>8067.13</td>\n",
       "      <td>2</td>\n",
       "      <td>2</td>\n",
       "      <td>2</td>\n",
       "    </tr>\n",
       "    <tr>\n",
       "      <th>ADAMS, S</th>\n",
       "      <td>32</td>\n",
       "      <td>31</td>\n",
       "      <td>2937.56</td>\n",
       "      <td>3</td>\n",
       "      <td>3</td>\n",
       "      <td>3</td>\n",
       "    </tr>\n",
       "  </tbody>\n",
       "</table>\n",
       "</div>"
      ],
      "text/plain": [
       "           recency  frequency  monetary recency_score frequency_score  \\\n",
       "full_name                                                               \n",
       "AARON, B        43          3   1390.00             3               4   \n",
       "ACREE, T         7         85  27991.45             2               2   \n",
       "ADAMS, C        78         23   1054.71             4               3   \n",
       "ADAMS, K        13         68   8067.13             2               2   \n",
       "ADAMS, S        32         31   2937.56             3               3   \n",
       "\n",
       "          monetary_score  \n",
       "full_name                 \n",
       "AARON, B               4  \n",
       "ACREE, T               1  \n",
       "ADAMS, C               4  \n",
       "ADAMS, K               2  \n",
       "ADAMS, S               3  "
      ]
     },
     "execution_count": 18,
     "metadata": {},
     "output_type": "execute_result"
    }
   ],
   "source": [
    "# create a function to calculate monetary score\n",
    "def monetary_score(monetary, monetary_dict):\n",
    "    if monetary <= monetary_dict[0.25]:\n",
    "        # monetary_score = 4 if monetary is between 0-0.25 quantile\n",
    "        return '4'\n",
    "    elif monetary <= monetary_dict[0.50]:\n",
    "        # monetary_score = 3 if monetary is between 0.25-0.5 quantile\n",
    "        return '3'\n",
    "    elif monetary <= monetary_dict[0.75]:\n",
    "        # monetary_score = 2 if monetary is between 0.5-0.75 quantile\n",
    "        return '2'\n",
    "    else:\n",
    "        # monetary_score = 1 if monetary is between 0.75-1 quantile\n",
    "        return '1'\n",
    "\n",
    "df_rfm['monetary_score'] = df_rfm['monetary'].apply(monetary_score, args=(monetary_dict,))\n",
    "df_rfm.head()"
   ]
  },
  {
   "cell_type": "markdown",
   "metadata": {
    "id": "5b_VwaQsIhwB"
   },
   "source": [
    "#### Concatenating the RFM Scores"
   ]
  },
  {
   "cell_type": "code",
   "execution_count": 19,
   "metadata": {
    "colab": {
     "base_uri": "https://localhost:8080/",
     "height": 394
    },
    "id": "JraNf90eIkNW",
    "outputId": "03912939-9d9c-4511-d752-b7d0b2fb68b6"
   },
   "outputs": [
    {
     "data": {
      "text/html": [
       "<div>\n",
       "<style scoped>\n",
       "    .dataframe tbody tr th:only-of-type {\n",
       "        vertical-align: middle;\n",
       "    }\n",
       "\n",
       "    .dataframe tbody tr th {\n",
       "        vertical-align: top;\n",
       "    }\n",
       "\n",
       "    .dataframe thead th {\n",
       "        text-align: right;\n",
       "    }\n",
       "</style>\n",
       "<table border=\"1\" class=\"dataframe\">\n",
       "  <thead>\n",
       "    <tr style=\"text-align: right;\">\n",
       "      <th></th>\n",
       "      <th>recency</th>\n",
       "      <th>frequency</th>\n",
       "      <th>monetary</th>\n",
       "      <th>recency_score</th>\n",
       "      <th>frequency_score</th>\n",
       "      <th>monetary_score</th>\n",
       "      <th>rfm_score</th>\n",
       "    </tr>\n",
       "    <tr>\n",
       "      <th>full_name</th>\n",
       "      <th></th>\n",
       "      <th></th>\n",
       "      <th></th>\n",
       "      <th></th>\n",
       "      <th></th>\n",
       "      <th></th>\n",
       "      <th></th>\n",
       "    </tr>\n",
       "  </thead>\n",
       "  <tbody>\n",
       "    <tr>\n",
       "      <th>AARON, B</th>\n",
       "      <td>43</td>\n",
       "      <td>3</td>\n",
       "      <td>1390.00</td>\n",
       "      <td>3</td>\n",
       "      <td>4</td>\n",
       "      <td>4</td>\n",
       "      <td>344</td>\n",
       "    </tr>\n",
       "    <tr>\n",
       "      <th>ACREE, T</th>\n",
       "      <td>7</td>\n",
       "      <td>85</td>\n",
       "      <td>27991.45</td>\n",
       "      <td>2</td>\n",
       "      <td>2</td>\n",
       "      <td>1</td>\n",
       "      <td>221</td>\n",
       "    </tr>\n",
       "    <tr>\n",
       "      <th>ADAMS, C</th>\n",
       "      <td>78</td>\n",
       "      <td>23</td>\n",
       "      <td>1054.71</td>\n",
       "      <td>4</td>\n",
       "      <td>3</td>\n",
       "      <td>4</td>\n",
       "      <td>434</td>\n",
       "    </tr>\n",
       "    <tr>\n",
       "      <th>ADAMS, K</th>\n",
       "      <td>13</td>\n",
       "      <td>68</td>\n",
       "      <td>8067.13</td>\n",
       "      <td>2</td>\n",
       "      <td>2</td>\n",
       "      <td>2</td>\n",
       "      <td>222</td>\n",
       "    </tr>\n",
       "    <tr>\n",
       "      <th>ADAMS, S</th>\n",
       "      <td>32</td>\n",
       "      <td>31</td>\n",
       "      <td>2937.56</td>\n",
       "      <td>3</td>\n",
       "      <td>3</td>\n",
       "      <td>3</td>\n",
       "      <td>333</td>\n",
       "    </tr>\n",
       "    <tr>\n",
       "      <th>ADE, D</th>\n",
       "      <td>5</td>\n",
       "      <td>56</td>\n",
       "      <td>12419.25</td>\n",
       "      <td>1</td>\n",
       "      <td>2</td>\n",
       "      <td>2</td>\n",
       "      <td>122</td>\n",
       "    </tr>\n",
       "    <tr>\n",
       "      <th>ADKINS, M</th>\n",
       "      <td>18</td>\n",
       "      <td>1</td>\n",
       "      <td>11.86</td>\n",
       "      <td>3</td>\n",
       "      <td>4</td>\n",
       "      <td>4</td>\n",
       "      <td>344</td>\n",
       "    </tr>\n",
       "    <tr>\n",
       "      <th>ADMIRE, A</th>\n",
       "      <td>7</td>\n",
       "      <td>96</td>\n",
       "      <td>11259.00</td>\n",
       "      <td>2</td>\n",
       "      <td>1</td>\n",
       "      <td>2</td>\n",
       "      <td>212</td>\n",
       "    </tr>\n",
       "    <tr>\n",
       "      <th>ADUDDELL, D</th>\n",
       "      <td>18</td>\n",
       "      <td>12</td>\n",
       "      <td>8280.00</td>\n",
       "      <td>3</td>\n",
       "      <td>4</td>\n",
       "      <td>2</td>\n",
       "      <td>342</td>\n",
       "    </tr>\n",
       "    <tr>\n",
       "      <th>AGNELLI, M</th>\n",
       "      <td>5</td>\n",
       "      <td>170</td>\n",
       "      <td>63877.64</td>\n",
       "      <td>1</td>\n",
       "      <td>1</td>\n",
       "      <td>1</td>\n",
       "      <td>111</td>\n",
       "    </tr>\n",
       "  </tbody>\n",
       "</table>\n",
       "</div>"
      ],
      "text/plain": [
       "             recency  frequency  monetary recency_score frequency_score  \\\n",
       "full_name                                                                 \n",
       "AARON, B          43          3   1390.00             3               4   \n",
       "ACREE, T           7         85  27991.45             2               2   \n",
       "ADAMS, C          78         23   1054.71             4               3   \n",
       "ADAMS, K          13         68   8067.13             2               2   \n",
       "ADAMS, S          32         31   2937.56             3               3   \n",
       "ADE, D             5         56  12419.25             1               2   \n",
       "ADKINS, M         18          1     11.86             3               4   \n",
       "ADMIRE, A          7         96  11259.00             2               1   \n",
       "ADUDDELL, D       18         12   8280.00             3               4   \n",
       "AGNELLI, M         5        170  63877.64             1               1   \n",
       "\n",
       "            monetary_score rfm_score  \n",
       "full_name                             \n",
       "AARON, B                 4       344  \n",
       "ACREE, T                 1       221  \n",
       "ADAMS, C                 4       434  \n",
       "ADAMS, K                 2       222  \n",
       "ADAMS, S                 3       333  \n",
       "ADE, D                   2       122  \n",
       "ADKINS, M                4       344  \n",
       "ADMIRE, A                2       212  \n",
       "ADUDDELL, D              2       342  \n",
       "AGNELLI, M               1       111  "
      ]
     },
     "execution_count": 19,
     "metadata": {},
     "output_type": "execute_result"
    }
   ],
   "source": [
    "# Concatenate the three created columns earlier\n",
    "df_rfm['rfm_score'] = df_rfm['recency_score'] + df_rfm['frequency_score'] + df_rfm['monetary_score']\n",
    "df_rfm.head(10)"
   ]
  },
  {
   "cell_type": "markdown",
   "metadata": {
    "id": "VjmxOPCBEcaJ"
   },
   "source": [
    "#### Insights, recommendations, analysis."
   ]
  },
  {
   "cell_type": "code",
   "execution_count": 20,
   "metadata": {
    "id": "LvLo3kdRP3ms"
   },
   "outputs": [],
   "source": [
    "segment_counts = {'Best_Customers(111)' : len(df_rfm[df_rfm['rfm_score']=='111']),\n",
    "                  'Loyal_Customers(X1X)' : len(df_rfm[df_rfm['frequency_score']=='1']),\n",
    "                  'Big_Spenders(XX1)' : len(df_rfm[df_rfm['monetary_score']=='1']),\n",
    "                  'Almost_Lost(311)' : len(df_rfm[df_rfm['rfm_score']=='311']),\n",
    "                  'Lost_Good_Customers(411)' : len(df_rfm[df_rfm['rfm_score']=='411']),\n",
    "                  'Lost_Cheap_Customers(444)' : len(df_rfm[df_rfm['rfm_score']=='444']),\n",
    "\n",
    "                  }"
   ]
  },
  {
   "cell_type": "code",
   "execution_count": 21,
   "metadata": {
    "colab": {
     "base_uri": "https://localhost:8080/",
     "height": 237
    },
    "id": "a5mk_s16R2DA",
    "outputId": "ea5d25aa-54a3-4664-ced3-924f10c1c0fd"
   },
   "outputs": [
    {
     "data": {
      "text/html": [
       "<div>\n",
       "<style scoped>\n",
       "    .dataframe tbody tr th:only-of-type {\n",
       "        vertical-align: middle;\n",
       "    }\n",
       "\n",
       "    .dataframe tbody tr th {\n",
       "        vertical-align: top;\n",
       "    }\n",
       "\n",
       "    .dataframe thead th {\n",
       "        text-align: right;\n",
       "    }\n",
       "</style>\n",
       "<table border=\"1\" class=\"dataframe\">\n",
       "  <thead>\n",
       "    <tr style=\"text-align: right;\">\n",
       "      <th></th>\n",
       "      <th>counts</th>\n",
       "    </tr>\n",
       "  </thead>\n",
       "  <tbody>\n",
       "    <tr>\n",
       "      <th>Best_Customers(111)</th>\n",
       "      <td>575</td>\n",
       "    </tr>\n",
       "    <tr>\n",
       "      <th>Loyal_Customers(X1X)</th>\n",
       "      <td>1282</td>\n",
       "    </tr>\n",
       "    <tr>\n",
       "      <th>Big_Spenders(XX1)</th>\n",
       "      <td>1298</td>\n",
       "    </tr>\n",
       "    <tr>\n",
       "      <th>Almost_Lost(311)</th>\n",
       "      <td>86</td>\n",
       "    </tr>\n",
       "    <tr>\n",
       "      <th>Lost_Good_Customers(411)</th>\n",
       "      <td>44</td>\n",
       "    </tr>\n",
       "    <tr>\n",
       "      <th>Lost_Cheap_Customers(444)</th>\n",
       "      <td>621</td>\n",
       "    </tr>\n",
       "  </tbody>\n",
       "</table>\n",
       "</div>"
      ],
      "text/plain": [
       "                           counts\n",
       "Best_Customers(111)           575\n",
       "Loyal_Customers(X1X)         1282\n",
       "Big_Spenders(XX1)            1298\n",
       "Almost_Lost(311)               86\n",
       "Lost_Good_Customers(411)       44\n",
       "Lost_Cheap_Customers(444)     621"
      ]
     },
     "execution_count": 21,
     "metadata": {},
     "output_type": "execute_result"
    }
   ],
   "source": [
    "df_counts = pd.DataFrame(segment_counts.values(), index=segment_counts.keys(), columns=['counts'])\n",
    "df_counts"
   ]
  },
  {
   "cell_type": "code",
   "execution_count": 22,
   "metadata": {
    "colab": {
     "base_uri": "https://localhost:8080/",
     "height": 639
    },
    "id": "pRaSw61OGNGZ",
    "outputId": "b56880d8-467d-40a6-bdf4-8cbabd6f294b"
   },
   "outputs": [
    {
     "data": {
      "text/plain": [
       "Text(0, 0.5, '# Customers')"
      ]
     },
     "execution_count": 22,
     "metadata": {},
     "output_type": "execute_result"
    },
    {
     "data": {
      "image/png": "[encoded data removed]",
      "text/plain": [
       "<Figure size 1200x700 with 1 Axes>"
      ]
     },
     "metadata": {},
     "output_type": "display_data"
    }
   ],
   "source": [
    "#Customer Segment Count\n",
    "\n",
    "fig, ax = plt.subplots (figsize = (12,7))\n",
    "df_counts.plot(kind = 'barh', ax=ax, legend=False)\n",
    "ax.set_title('RFM Customer Segments')\n",
    "ax.set_ylabel('# Customers')"
   ]
  },
  {
   "cell_type": "code",
   "execution_count": 23,
   "metadata": {
    "id": "gpEm84b0bd0M"
   },
   "outputs": [],
   "source": [
    "customer_count = df['full_name'].nunique()\n",
    "\n",
    "\n",
    "df_counts['pct'] = df_counts['counts'] / customer_count"
   ]
  },
  {
   "cell_type": "code",
   "execution_count": 24,
   "metadata": {
    "colab": {
     "base_uri": "https://localhost:8080/",
     "height": 639
    },
    "id": "B6pEFfvNGRvR",
    "outputId": "a7946901-da7b-4d8f-dacc-8095ea18f204"
   },
   "outputs": [
    {
     "data": {
      "text/plain": [
       "Text(0, 0.5, '# Customers')"
      ]
     },
     "execution_count": 24,
     "metadata": {},
     "output_type": "execute_result"
    },
    {
     "data": {
      "image/png": "[encoded data removed]",
      "text/plain": [
       "<Figure size 1200x700 with 1 Axes>"
      ]
     },
     "metadata": {},
     "output_type": "display_data"
    }
   ],
   "source": [
    "#Customer Segments in percentages\n",
    "fig, ax = plt.subplots (figsize = (12,7))\n",
    "df_counts['pct'].plot(kind = 'barh', ax=ax, legend=False)\n",
    "ax.set_title('RFM Customer Segments')\n",
    "ax.set_ylabel('# Customers')"
   ]
  },
  {
   "cell_type": "code",
   "execution_count": 25,
   "metadata": {
    "colab": {
     "base_uri": "https://localhost:8080/",
     "height": 394
    },
    "id": "U4vg825vGW08",
    "outputId": "c39e9c6b-68ed-44ea-cc2b-865aac09cfca"
   },
   "outputs": [
    {
     "data": {
      "text/html": [
       "<div>\n",
       "<style scoped>\n",
       "    .dataframe tbody tr th:only-of-type {\n",
       "        vertical-align: middle;\n",
       "    }\n",
       "\n",
       "    .dataframe tbody tr th {\n",
       "        vertical-align: top;\n",
       "    }\n",
       "\n",
       "    .dataframe thead th {\n",
       "        text-align: right;\n",
       "    }\n",
       "</style>\n",
       "<table border=\"1\" class=\"dataframe\">\n",
       "  <thead>\n",
       "    <tr style=\"text-align: right;\">\n",
       "      <th></th>\n",
       "      <th>recency</th>\n",
       "      <th>frequency</th>\n",
       "      <th>monetary</th>\n",
       "      <th>recency_score</th>\n",
       "      <th>frequency_score</th>\n",
       "      <th>monetary_score</th>\n",
       "      <th>rfm_score</th>\n",
       "    </tr>\n",
       "    <tr>\n",
       "      <th>full_name</th>\n",
       "      <th></th>\n",
       "      <th></th>\n",
       "      <th></th>\n",
       "      <th></th>\n",
       "      <th></th>\n",
       "      <th></th>\n",
       "      <th></th>\n",
       "    </tr>\n",
       "  </thead>\n",
       "  <tbody>\n",
       "    <tr>\n",
       "      <th>Cardholder, e</th>\n",
       "      <td>3</td>\n",
       "      <td>1622</td>\n",
       "      <td>17865671.21</td>\n",
       "      <td>1</td>\n",
       "      <td>1</td>\n",
       "      <td>1</td>\n",
       "      <td>111</td>\n",
       "    </tr>\n",
       "    <tr>\n",
       "      <th>Saltzman, D</th>\n",
       "      <td>3</td>\n",
       "      <td>852</td>\n",
       "      <td>3281746.34</td>\n",
       "      <td>1</td>\n",
       "      <td>1</td>\n",
       "      <td>1</td>\n",
       "      <td>111</td>\n",
       "    </tr>\n",
       "    <tr>\n",
       "      <th>JOURNEY HOUSE TRAVEL INC, G</th>\n",
       "      <td>4</td>\n",
       "      <td>9650</td>\n",
       "      <td>3175926.70</td>\n",
       "      <td>1</td>\n",
       "      <td>1</td>\n",
       "      <td>1</td>\n",
       "      <td>111</td>\n",
       "    </tr>\n",
       "    <tr>\n",
       "      <th>UNIVERSITY AMERICAN, G</th>\n",
       "      <td>4</td>\n",
       "      <td>6997</td>\n",
       "      <td>2579440.48</td>\n",
       "      <td>1</td>\n",
       "      <td>1</td>\n",
       "      <td>1</td>\n",
       "      <td>111</td>\n",
       "    </tr>\n",
       "    <tr>\n",
       "      <th>LARSON, B</th>\n",
       "      <td>4</td>\n",
       "      <td>695</td>\n",
       "      <td>2192200.36</td>\n",
       "      <td>1</td>\n",
       "      <td>1</td>\n",
       "      <td>1</td>\n",
       "      <td>111</td>\n",
       "    </tr>\n",
       "    <tr>\n",
       "      <th>CANTRELL, P</th>\n",
       "      <td>2</td>\n",
       "      <td>336</td>\n",
       "      <td>1769319.49</td>\n",
       "      <td>1</td>\n",
       "      <td>1</td>\n",
       "      <td>1</td>\n",
       "      <td>111</td>\n",
       "    </tr>\n",
       "    <tr>\n",
       "      <th>Hines, G</th>\n",
       "      <td>3</td>\n",
       "      <td>3213</td>\n",
       "      <td>1702434.87</td>\n",
       "      <td>1</td>\n",
       "      <td>1</td>\n",
       "      <td>1</td>\n",
       "      <td>111</td>\n",
       "    </tr>\n",
       "    <tr>\n",
       "      <th>Johnson, C</th>\n",
       "      <td>5</td>\n",
       "      <td>115</td>\n",
       "      <td>1477962.96</td>\n",
       "      <td>1</td>\n",
       "      <td>1</td>\n",
       "      <td>1</td>\n",
       "      <td>111</td>\n",
       "    </tr>\n",
       "    <tr>\n",
       "      <th>Stroup, P</th>\n",
       "      <td>3</td>\n",
       "      <td>1860</td>\n",
       "      <td>1351728.28</td>\n",
       "      <td>1</td>\n",
       "      <td>1</td>\n",
       "      <td>1</td>\n",
       "      <td>111</td>\n",
       "    </tr>\n",
       "    <tr>\n",
       "      <th>Lewis, G</th>\n",
       "      <td>5</td>\n",
       "      <td>967</td>\n",
       "      <td>1329426.84</td>\n",
       "      <td>1</td>\n",
       "      <td>1</td>\n",
       "      <td>1</td>\n",
       "      <td>111</td>\n",
       "    </tr>\n",
       "  </tbody>\n",
       "</table>\n",
       "</div>"
      ],
      "text/plain": [
       "                             recency  frequency     monetary recency_score  \\\n",
       "full_name                                                                    \n",
       "Cardholder, e                      3       1622  17865671.21             1   \n",
       "Saltzman, D                        3        852   3281746.34             1   \n",
       "JOURNEY HOUSE TRAVEL INC, G        4       9650   3175926.70             1   \n",
       "UNIVERSITY AMERICAN, G             4       6997   2579440.48             1   \n",
       "LARSON, B                          4        695   2192200.36             1   \n",
       "CANTRELL, P                        2        336   1769319.49             1   \n",
       "Hines, G                           3       3213   1702434.87             1   \n",
       "Johnson, C                         5        115   1477962.96             1   \n",
       "Stroup, P                          3       1860   1351728.28             1   \n",
       "Lewis, G                           5        967   1329426.84             1   \n",
       "\n",
       "                            frequency_score monetary_score rfm_score  \n",
       "full_name                                                             \n",
       "Cardholder, e                             1              1       111  \n",
       "Saltzman, D                               1              1       111  \n",
       "JOURNEY HOUSE TRAVEL INC, G               1              1       111  \n",
       "UNIVERSITY AMERICAN, G                    1              1       111  \n",
       "LARSON, B                                 1              1       111  \n",
       "CANTRELL, P                               1              1       111  \n",
       "Hines, G                                  1              1       111  \n",
       "Johnson, C                                1              1       111  \n",
       "Stroup, P                                 1              1       111  \n",
       "Lewis, G                                  1              1       111  "
      ]
     },
     "execution_count": 25,
     "metadata": {},
     "output_type": "execute_result"
    }
   ],
   "source": [
    "#Top Customers\n",
    "\n",
    "df_rfm[df_rfm['rfm_score']=='111'].sort_values('monetary',ascending=False).head(10)"
   ]
  },
  {
   "cell_type": "code",
   "execution_count": 26,
   "metadata": {
    "colab": {
     "base_uri": "https://localhost:8080/",
     "height": 657
    },
    "id": "dGR258nLGWqc",
    "outputId": "76d7b23c-f263-426e-bd6d-1dea263cadec"
   },
   "outputs": [
    {
     "data": {
      "text/plain": [
       "Text(0, 0.5, 'Cardholder Name')"
      ]
     },
     "execution_count": 26,
     "metadata": {},
     "output_type": "execute_result"
    },
    {
     "data": {
      "image/png": "[encoded data removed]",
      "text/plain": [
       "<Figure size 1200x700 with 1 Axes>"
      ]
     },
     "metadata": {},
     "output_type": "display_data"
    }
   ],
   "source": [
    "#Top 10 Biggest Spenders\n",
    "\n",
    "fig, ax = plt.subplots (figsize = (12,7))\n",
    "df_monetary.sort_values(ascending=True).tail(10).plot(kind = 'barh', ax=ax)\n",
    "ax.set_title('Top 10 Biggest Spenders')\n",
    "ax.set_ylabel('Cardholder Name')"
   ]
  },
  {
   "cell_type": "code",
   "execution_count": 27,
   "metadata": {
    "colab": {
     "base_uri": "https://localhost:8080/"
    },
    "id": "Z-2bS4QRGWpR",
    "outputId": "ad1bcb66-1a51-49e9-ca1e-e310d162ef3e"
   },
   "outputs": [
    {
     "data": {
      "text/plain": [
       "Merchant Category Code (MCC)\n",
       "DENTAL/LABORATORY/MEDICAL/OPHTHALMIC HOSP EQIP AND SUP.      11180670.48\n",
       "INDUSTRIAL SUPPLIES NOT ELSEWHERE CLASSIFIED                 11089700.06\n",
       "COMPUTERS, COMPUTER PERIPHERAL EQUIPMENT, SOFTWARE           10152357.86\n",
       "COMMERCIAL EQUIPMENT, NOT ELSEWHERE CLASSIFIED                8209761.28\n",
       "AMERICAN AIRLINES                                             5766317.41\n",
       "MISCELLANEOUS AND SPECIALTY RETAIL STORES                     5642660.73\n",
       "BUSINESS SERVICES NOT ELSEWHERE CLASSIFIED                    5282567.52\n",
       "STATIONERY, OFFICE SUPPLIES, PRINTING AND WRITING PAPER       5192115.11\n",
       "DIRCT MARKETING/DIRCT MARKETERS--NOT ELSEWHERE CLASSIFIED     4788960.30\n",
       "ELECTRICAL PARTS AND EQUIPMENT                                3997448.15\n",
       "Name: Amount, dtype: float64"
      ]
     },
     "execution_count": 27,
     "metadata": {},
     "output_type": "execute_result"
    }
   ],
   "source": [
    " df_top_merchants = df.groupby('Merchant Category Code (MCC)')['Amount'].sum()\n",
    "\n",
    "df_top_merchants.sort_values(ascending=False).head(10)"
   ]
  },
  {
   "cell_type": "code",
   "execution_count": 28,
   "metadata": {
    "colab": {
     "base_uri": "https://localhost:8080/",
     "height": 657
    },
    "id": "U-PSkJgGT5pt",
    "outputId": "c8b2468a-f7ce-4b2e-deab-d4ac0af10ffd"
   },
   "outputs": [
    {
     "data": {
      "text/plain": [
       "Text(0, 0.5, 'Merchant Category')"
      ]
     },
     "execution_count": 28,
     "metadata": {},
     "output_type": "execute_result"
    },
    {
     "data": {
      "image/png": "[encoded data removed]",
      "text/plain": [
       "<Figure size 1200x700 with 1 Axes>"
      ]
     },
     "metadata": {},
     "output_type": "display_data"
    }
   ],
   "source": [
    "#Top 10 Merchant Categories\n",
    "\n",
    "fig, ax = plt.subplots (figsize = (12,7))\n",
    "df_top_merchants.sort_values(ascending=True).tail(10).plot(kind = 'barh', ax=ax)\n",
    "ax.set_title('Top 10 Merchant Categories')\n",
    "ax.set_ylabel('Merchant Category')"
   ]
  },
  {
   "cell_type": "markdown",
   "metadata": {
    "id": "qqai8WOAaPnN"
   },
   "source": [
    "**Analysis and Reccomendations**\n",
    "\n",
    "Using RFM, we were able to create segments of our customers. This helped us identify the following:\n",
    "\n",
    "\n",
    "*   Customers that generate the biggest revenue and are the most valuable to the card program.\n",
    " Customers belonging to this segment should be shown their importance by assigning certain perks such \"gold\" card, VIP status or loyalty rewards.\n",
    "* Customers that the program is on the edge of losing\n",
    "*  Which customers can be retained and increased interest in using the service by sending out promotional offers and bonuses\n",
    "*  How to transfer customers from a \"sleeping\" group to \"active buyers\" by offering special discounts or gifts for extra\n",
    "\n",
    "The top 10 merchant categories of the customers have also been determined through analysis. These can provide us additional information on where bonuses, discounts or loyatly rewards can be placed, since these categories are what customers are spending most of their money on"
   ]
  }
 ],
 "metadata": {
  "colab": {
   "provenance": []
  },
  "kernelspec": {
   "display_name": "Python 3 (ipykernel)",
   "language": "python",
   "name": "python3"
  },
  "language_info": {
   "codemirror_mode": {
    "name": "ipython",
    "version": 3
   },
   "file_extension": ".py",
   "mimetype": "text/x-python",
   "name": "python",
   "nbconvert_exporter": "python",
   "pygments_lexer": "ipython3",
   "version": "3.11.5"
  }
 },
 "nbformat": 4,
 "nbformat_minor": 1
}
